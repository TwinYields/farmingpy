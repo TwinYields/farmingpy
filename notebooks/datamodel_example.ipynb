{
 "cells": [
  {
   "cell_type": "code",
   "execution_count": 9,
   "metadata": {},
   "outputs": [],
   "source": [
    "import sys\n",
    "sys.path.append(\"..\")\n",
    "from farmingpy.datamodel.classes import Planting\n",
    "from farmingpy.datamodel.dm_scripts import pydump_to_ngsild, pyobj_to_ngsild\n",
    "from ngsildclient import Entity"
   ]
  },
  {
   "cell_type": "code",
   "execution_count": 10,
   "metadata": {},
   "outputs": [
    {
     "data": {
      "text/plain": [
       "{'agriparcel': 'urn:id_here',\n",
       " 'crop_code': '123',\n",
       " 'id': 'urn:ngsi-ld:jaarli:123',\n",
       " 'type': 'Planting'}"
      ]
     },
     "execution_count": 10,
     "metadata": {},
     "output_type": "execute_result"
    }
   ],
   "source": [
    "# example planting object\n",
    "\n",
    "# first create object from pydantic file\n",
    "planting_pydantic_object = Planting(\n",
    "    agriparcel = \"urn:id_here\",\n",
    "    crop_code = '123',\n",
    "    id = Entity._build_fully_qualified_id('jaarli', '123'),\n",
    "    type = \"Planting\"\n",
    ")\n",
    "planting_pydantic_object\n",
    "\n",
    "# get dictionary dump from pydantic\n",
    "pydanticdump = planting_pydantic_object.model_dump(exclude_none=True)\n",
    "pydanticdump\n"
   ]
  },
  {
   "cell_type": "code",
   "execution_count": 11,
   "metadata": {},
   "outputs": [
    {
     "data": {
      "text/plain": [
       "{'agriparcel': {'object': 'urn:id_here', 'type': 'Relationship'},\n",
       " 'crop_code': {'value': '123', 'type': 'Property'},\n",
       " 'id': 'urn:ngsi-ld:jaarli:123',\n",
       " 'type': 'Planting'}"
      ]
     },
     "execution_count": 11,
     "metadata": {},
     "output_type": "execute_result"
    }
   ],
   "source": [
    "# convert to NGSI-LD format\n",
    "# - automatically convert pydanticdump dictionary values to NGSI-LD format with \n",
    "#   {'object': <object_here>, 'type':'Relationship'} or\n",
    "#   {'value': <value_here>, 'type':'Property'} notation\n",
    "# - leave id and type without Property/Relationship\n",
    "# - assign relationship only to 'agriparcel'\n",
    "# Note that Relationship/Property status is not visible in classes.py\n",
    "\n",
    "ngsientitydump = pydump_to_ngsild(pydanticdump)\n",
    "ngsientitydump"
   ]
  },
  {
   "cell_type": "code",
   "execution_count": 12,
   "metadata": {},
   "outputs": [
    {
     "data": {
      "text/plain": [
       "{'agriparcel': {'object': 'urn:id_here', 'type': 'Relationship'},\n",
       " 'crop_code': {'value': '123', 'type': 'Property'},\n",
       " 'id': 'urn:ngsi-ld:jaarli:123',\n",
       " 'type': 'Planting'}"
      ]
     },
     "execution_count": 12,
     "metadata": {},
     "output_type": "execute_result"
    }
   ],
   "source": [
    "# or do the same, directly with planting object\n",
    "ngsientitydump2 = pyobj_to_ngsild(planting_pydantic_object)\n",
    "ngsientitydump2"
   ]
  }
 ],
 "metadata": {
  "kernelspec": {
   "display_name": "rilabwebinar2",
   "language": "python",
   "name": "python3"
  },
  "language_info": {
   "codemirror_mode": {
    "name": "ipython",
    "version": 3
   },
   "file_extension": ".py",
   "mimetype": "text/x-python",
   "name": "python",
   "nbconvert_exporter": "python",
   "pygments_lexer": "ipython3",
   "version": "3.12.6"
  }
 },
 "nbformat": 4,
 "nbformat_minor": 2
}
