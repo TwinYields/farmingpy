{
 "cells": [
  {
   "cell_type": "code",
   "execution_count": 8,
   "metadata": {},
   "outputs": [],
   "source": [
    "import sys\n",
    "sys.path.append(\"..\")\n",
    "from farmingpy.datamodel.classes import Sample, SoilProfileLayer\n",
    "from farmingpy.datamodel.dm_scripts import pyobj_to_ngsild\n",
    "from ngsildclient import Entity\n",
    "from shapely.geometry import shape, Polygon, Point\n",
    "import datetime"
   ]
  },
  {
   "cell_type": "code",
   "execution_count": 14,
   "metadata": {},
   "outputs": [],
   "source": [
    "# example sample object\n",
    "\n",
    "# first create object from pydantic file\n",
    "sample_pydantic_object = Sample(\n",
    "    agriparcel = \"urn:id_here\",\n",
    "    grid_id = 'h3_id_here', # Id to locate sample on chosen grid, e.g. h3 id\n",
    "    location =  Point(61.21, 22.21), # Geometry of the sample, e.g. Point or Polygon\n",
    "    sampling_date = '2024-5-11',\n",
    "    soil_organic_C_perc_layr = 5,# optional, choose the variable according to measurement\n",
    "    soil_pH_in_buffer = 5, # optional\n",
    "    soil_pH_in_water = 5, # optional\n",
    "    total_biomass_dry_wt = 5, # optional\n",
    "    id = Entity._build_fully_qualified_id('unique_id', '123'), # unique id, e.g. biomass_<sampling_date>\n",
    "    type = \"Sample\"\n",
    ")\n"
   ]
  },
  {
   "cell_type": "code",
   "execution_count": 15,
   "metadata": {},
   "outputs": [
    {
     "data": {
      "text/plain": [
       "{'agriparcel': {'object': 'urn:id_here', 'type': 'Relationship'},\n",
       " 'grid_id': {'value': 'h3_id_here', 'type': 'Property'},\n",
       " 'id': 'urn:ngsi-ld:unique_id:123',\n",
       " 'location': {'value': <POINT (61.21 22.21)>, 'type': 'GeoProperty'},\n",
       " 'sampling_date': {'value': '2024-5-11', 'type': 'Property'},\n",
       " 'soil_organic_C_perc_layr': {'value': 5, 'type': 'Property'},\n",
       " 'soil_pH_in_buffer': {'value': 5, 'type': 'Property'},\n",
       " 'soil_pH_in_water': {'value': 5, 'type': 'Property'},\n",
       " 'total_biomass_dry_wt': {'value': 5, 'type': 'Property'},\n",
       " 'type': 'Sample'}"
      ]
     },
     "execution_count": 15,
     "metadata": {},
     "output_type": "execute_result"
    }
   ],
   "source": [
    "# convert to full NGSI-LD format\n",
    "sample_ngsientitydump = pyobj_to_ngsild(sample_pydantic_object)\n",
    "sample_ngsientitydump"
   ]
  },
  {
   "cell_type": "code",
   "execution_count": 16,
   "metadata": {},
   "outputs": [],
   "source": [
    "# example soilprofilelayer object\n",
    "# see possible parameters from farmingpy.classes SoilProfileLayer\n",
    "\n",
    "# first create object from pydantic file\n",
    "spl_pydantic_object = SoilProfileLayer(\n",
    "    agriparcel = \"urn:id_here\",\n",
    "    grid_id = 'h3_id_here', # Id to locate sample on chosen grid, e.g. h3 id\n",
    "    spatial_category = 'h3',\n",
    "    soil_layer_top_depth = 0,\n",
    "    soil_layer_base_depth = 10,\n",
    "    soil_organic_n_conc = 5, # optional parameter\n",
    "    # ... other available soil parameters, see farmingpy.classes SoilProfileLayer for options\n",
    "    id = Entity._build_fully_qualified_id('unique_id', '123'), # unique id, e.g. spl_<h3>\n",
    "    type = \"SoilProfileLayer\"\n",
    ")\n"
   ]
  },
  {
   "cell_type": "code",
   "execution_count": 17,
   "metadata": {},
   "outputs": [
    {
     "data": {
      "text/plain": [
       "{'agriparcel': {'object': 'urn:id_here', 'type': 'Relationship'},\n",
       " 'grid_id': {'value': 'h3_id_here', 'type': 'Property'},\n",
       " 'id': 'urn:ngsi-ld:unique_id:123',\n",
       " 'soil_layer_base_depth': {'value': 10, 'type': 'Property'},\n",
       " 'soil_layer_top_depth': {'value': 0, 'type': 'Property'},\n",
       " 'soil_organic_n_conc': {'value': 5, 'type': 'Property'},\n",
       " 'spatial_category': {'value': 'h3', 'type': 'Property'},\n",
       " 'type': 'SoilProfileLayer'}"
      ]
     },
     "execution_count": 17,
     "metadata": {},
     "output_type": "execute_result"
    }
   ],
   "source": [
    "# convert to full NGSI-LD format\n",
    "spl_ngsientitydump = pyobj_to_ngsild(spl_pydantic_object)\n",
    "spl_ngsientitydump"
   ]
  }
 ],
 "metadata": {
  "kernelspec": {
   "display_name": "rilabwebinar2",
   "language": "python",
   "name": "python3"
  },
  "language_info": {
   "codemirror_mode": {
    "name": "ipython",
    "version": 3
   },
   "file_extension": ".py",
   "mimetype": "text/x-python",
   "name": "python",
   "nbconvert_exporter": "python",
   "pygments_lexer": "ipython3",
   "version": "3.12.6"
  }
 },
 "nbformat": 4,
 "nbformat_minor": 2
}
